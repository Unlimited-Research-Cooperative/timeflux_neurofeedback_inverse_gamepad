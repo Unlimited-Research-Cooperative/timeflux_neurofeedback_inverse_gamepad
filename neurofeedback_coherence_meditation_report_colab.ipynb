{
  "cells": [
    {
      "cell_type": "markdown",
      "metadata": {
        "id": "view-in-github"
      },
      "source": [
        "[![Open In Colab](https://colab.research.google.com/assets/colab-badge.svg)](https://colab.research.google.com/github/neuroidss/timeflux_neurofeedback_inverse_gamepad/blob/master/neurofeedback_coherence_meditation_report_colab.ipynb)"
      ]
    },
    {
      "cell_type": "code",
      "execution_count": null,
      "metadata": {},
      "outputs": [],
      "source": [
        "%cd /content\n",
        "!git clone https://github.com/neuroidss/timeflux_neurofeedback_inverse_gamepad\n",
        "%cd /content/timeflux_neurofeedback_inverse_gamepad\n",
        "!pip install gradio\n",
        "!python app_neurofeedback_coherence_meditation_report.py --share\n"
      ]
    }
  ],
  "metadata": {
    "accelerator": "GPU",
    "colab": {
      "gpuType": "T4",
      "provenance": []
    },
    "kernelspec": {
      "display_name": "Python 3",
      "name": "python3"
    },
    "language_info": {
      "name": "python"
    }
  },
  "nbformat": 4,
  "nbformat_minor": 0
}
